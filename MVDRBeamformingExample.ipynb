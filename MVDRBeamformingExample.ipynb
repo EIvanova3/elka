{
 "cells": [
  {
   "cell_type": "code",
   "execution_count": 1,
   "metadata": {
    "collapsed": false
   },
   "outputs": [],
   "source": [
    "import matlab.engine\n",
    "#eng = matlab.engine.start_matlab()\n",
    "eng = matlab.engine.connect_matlab()"
   ]
  },
  {
   "cell_type": "code",
   "execution_count": 2,
   "metadata": {
    "collapsed": true
   },
   "outputs": [],
   "source": [
    "import numpy as np\n",
    "import scipy.io as sio"
   ]
  },
  {
   "cell_type": "code",
   "execution_count": 3,
   "metadata": {
    "collapsed": false
   },
   "outputs": [],
   "source": [
    "from beamformer import MVDRBeamformer"
   ]
  },
  {
   "cell_type": "code",
   "execution_count": 4,
   "metadata": {
    "collapsed": false
   },
   "outputs": [],
   "source": [
    "#input data\n",
    "LightSpeed = 299792458\n",
    "freq = 300e6\n",
    "incidentAngle = [45, 0]\n",
    "array = eng.phased.ULA('NumElements', 5., 'ElementSpacing', 0.5);\n",
    "eng.quit()\n",
    "rx = sio.loadmat('signals.mat')\n",
    "rx = np.array(rx.get('rx', None))"
   ]
  },
  {
   "cell_type": "code",
   "execution_count": 5,
   "metadata": {
    "collapsed": false
   },
   "outputs": [],
   "source": [
    "#  [y, w] = beamformer(x) and [y, w] = beamformer.step(x) are equivalent\n",
    "beamformer = MVDRBeamformer(array, LightSpeed, freq, incidentAngle)\n",
    "[y_my, w_my] = beamformer.step(rx)"
   ]
  },
  {
   "cell_type": "code",
   "execution_count": 6,
   "metadata": {
    "collapsed": false
   },
   "outputs": [],
   "source": [
    "y = sio.loadmat('result.mat')\n",
    "y = np.array(y.get('y', None))\n",
    "np.testing.assert_almost_equal(y_my, y)"
   ]
  },
  {
   "cell_type": "code",
   "execution_count": 7,
   "metadata": {
    "collapsed": false
   },
   "outputs": [
    {
     "name": "stdout",
     "output_type": "stream",
     "text": [
      "[-0.13256891+0.05496558j -0.15072136-0.18352808j  0.20187933+0.04997551j\n",
      " -0.05638039+0.24153789j -0.11627733-0.22395724j]\n"
     ]
    }
   ],
   "source": [
    "print(w_my)"
   ]
  },
  {
   "cell_type": "code",
   "execution_count": null,
   "metadata": {
    "collapsed": true
   },
   "outputs": [],
   "source": []
  }
 ],
 "metadata": {
  "kernelspec": {
   "display_name": "Python 2",
   "language": "python",
   "name": "python2"
  },
  "language_info": {
   "codemirror_mode": {
    "name": "ipython",
    "version": 2
   },
   "file_extension": ".py",
   "mimetype": "text/x-python",
   "name": "python",
   "nbconvert_exporter": "python",
   "pygments_lexer": "ipython2",
   "version": "2.7.13"
  }
 },
 "nbformat": 4,
 "nbformat_minor": 2
}
